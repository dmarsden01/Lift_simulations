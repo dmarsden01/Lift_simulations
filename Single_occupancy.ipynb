{
 "cells": [
  {
   "cell_type": "code",
   "execution_count": 1,
   "metadata": {},
   "outputs": [],
   "source": [
    "import numpy as np\n",
    "import math\n"
   ]
  },
  {
   "cell_type": "code",
   "execution_count": 26,
   "metadata": {},
   "outputs": [],
   "source": [
    "class Lift(object):\n",
    "\n",
    "    def __init__(self, terminal_vel, N_terminal, max_floors) -> None:\n",
    "        self.terminal_vel = terminal_vel\n",
    "        self.N_terminal = N_terminal\n",
    "        self.max_floors = max_floors\n",
    "        # self.t_stop = t_stop\n",
    "        # pass\n",
    "\n",
    "    location = 0\n",
    "    direction = None\n",
    "    num_drop_offs = 0\n",
    "    num_stops = 0\n",
    "    last_journey_distance = 0\n",
    "    distance_travelled = 0\n",
    "    total_time = 0\n",
    "    time_operating = 0\n",
    "    requests = {} #empty initially\n",
    "    requests_to = []\n",
    "\n",
    "    def info(self):\n",
    "        print(f\"Located at floor {self.location}.\")\n",
    "        print(f\"Terminal velocity is {self.terminal_vel} floors per unit time.\")\n",
    "        print(f\"Reaches terminal velocity after {self.N_terminal} floors.\")\n",
    "        print(f\"Maximum floor is {self.max_floors}.\")\n",
    "\n",
    "    def request(self, floor, req_direction):\n",
    "        self.requests.update({floor:req_direction})\n",
    "    \n",
    "    def request_to(self, floor):\n",
    "        self.requests_to.append(floor)\n",
    "    \n",
    "    def move_to(self, floor):\n",
    "        self.last_journey_distance = abs(floor-self.location)\n",
    "        self.distance_travelled += abs(floor-self.location)\n",
    "        self.location = floor\n",
    "        self.num_stops += 1\n",
    "        \n",
    "    def add_time_move(self, floors_moved):\n",
    "        if (floors_moved < self.N_terminal):\n",
    "            moving_time = np.sqrt(4*(floors_moved*self.N_terminal)/(self.terminal_vel**2))\n",
    "        else:\n",
    "            moving_time = (floors_moved+self.N_terminal)/self.terminal_vel\n",
    "\n",
    "        self.total_time += moving_time\n",
    "        self.time_operating += moving_time\n",
    "\n",
    "    # def add_time_stop(self): #So far we are ignoring stopping time.\n",
    "    #     self.total_time += self.t_stop\n",
    "\n",
    "\n",
    "\n"
   ]
  },
  {
   "cell_type": "code",
   "execution_count": 27,
   "metadata": {},
   "outputs": [
    {
     "name": "stdout",
     "output_type": "stream",
     "text": [
      "Located at floor 0.\n",
      "Terminal velocity is 2 floors per unit time.\n",
      "Reaches terminal velocity after 3 floors.\n",
      "Maximum floor is 100.\n"
     ]
    }
   ],
   "source": [
    "test_lift = Lift(terminal_vel=2, N_terminal=3, max_floors=100)\n",
    "\n",
    "test_lift.info()"
   ]
  },
  {
   "cell_type": "code",
   "execution_count": 31,
   "metadata": {},
   "outputs": [
    {
     "name": "stdout",
     "output_type": "stream",
     "text": [
      "10\n",
      "50\n",
      "20\n",
      "6.928203230275509\n"
     ]
    }
   ],
   "source": [
    "test_lift.move_to(10)\n",
    "test_lift.add_time_move(1)\n",
    "# test_lift.add_time_stop()\n",
    "\n",
    "print(test_lift.location)\n",
    "print(test_lift.distance_travelled)\n",
    "print(test_lift.last_journey_distance)\n",
    "print(test_lift.total_time)\n"
   ]
  },
  {
   "cell_type": "code",
   "execution_count": 5,
   "metadata": {},
   "outputs": [
    {
     "name": "stdout",
     "output_type": "stream",
     "text": [
      "{}\n",
      "{7: 'down'}\n"
     ]
    }
   ],
   "source": [
    "# print(test_lift.requests)\n",
    "# test_lift.request(7, \"down\")\n",
    "\n",
    "# print(test_lift.requests)"
   ]
  },
  {
   "cell_type": "markdown",
   "metadata": {},
   "source": [
    "## Assumptions\n",
    "\n",
    "Assume constant acceleration until reaching terminal velocity. This termianl velocity is reached after a set number of floors $N_\\mathrm{terminal}$. <br>\n",
    "Assume each stop off takes the same amount of time, $t_\\mathrm{stop}$. We are ignoring this to start with."
   ]
  },
  {
   "cell_type": "code",
   "execution_count": 35,
   "metadata": {},
   "outputs": [],
   "source": [
    "def Produce_request(lift):\n",
    "    # Half the time it's someone on the ground floor wanting to go up\n",
    "    rng = np.random.default_rng() #No seed, pulled from OS!\n",
    "    number = rng.random() \n",
    "\n",
    "    floor_num = np.random.randint(0, lift.max_floors)\n",
    "    \n",
    "    if number < 0.5: #Going up\n",
    "        # Request_from = {0, \"up\"}\n",
    "        Request_from = 0\n",
    "        Request_direction = \"up\"\n",
    "        Request_to = floor_num\n",
    "    else: #Going down\n",
    "        # Request = {floor_num, \"down\"}\n",
    "        Request_from = floor_num\n",
    "        Request_direction = \"down\"\n",
    "        Request_to = 0\n",
    "\n",
    "    lift.request(Request_from, Request_direction)\n",
    "    lift.request_to(Request_to)\n",
    "\n",
    "    "
   ]
  },
  {
   "cell_type": "code",
   "execution_count": 37,
   "metadata": {},
   "outputs": [
    {
     "name": "stdout",
     "output_type": "stream",
     "text": [
      "Located at floor 0.\n",
      "Terminal velocity is 2 floors per unit time.\n",
      "Reaches terminal velocity after 3 floors.\n",
      "Maximum floor is 100.\n",
      "Located at floor 0.\n",
      "Terminal velocity is 2 floors per unit time.\n",
      "Reaches terminal velocity after 3 floors.\n",
      "Maximum floor is 20.\n",
      "lift 1:\n",
      "{0: 'down', 25: 'down', 14: 'down', 12: 'down'}\n",
      "[0, 0, 0, 0]\n",
      "{0: 'up', 25: 'down', 14: 'down', 12: 'down'}\n",
      "[0, 0, 0, 0, 31]\n",
      "\n",
      "lift 2:\n",
      "{0: 'up', 25: 'down', 14: 'down', 12: 'down'}\n",
      "[0, 0, 0, 0, 31]\n",
      "{0: 'up', 25: 'down', 14: 'down', 12: 'down'}\n",
      "[0, 0, 0, 0, 31, 0]\n"
     ]
    }
   ],
   "source": [
    "lift_1 = Lift(terminal_vel=2, N_terminal=3, max_floors=100)\n",
    "lift_2 = Lift(terminal_vel=2, N_terminal=3, max_floors=20)\n",
    "\n",
    "lift_1.info()\n",
    "lift_2.info()\n",
    "\n",
    "print(\"lift 1:\")\n",
    "print(lift_1.requests)\n",
    "print(lift_1.requests_to)\n",
    "\n",
    "Produce_request(lift_1)\n",
    "\n",
    "print(lift_1.requests)\n",
    "print(lift_1.requests_to)\n",
    "\n",
    "print()\n",
    "print(\"lift 2:\")\n",
    "print(lift_2.requests)\n",
    "print(lift_2.requests_to)\n",
    "\n",
    "Produce_request(lift_2)\n",
    "\n",
    "print(lift_2.requests)\n",
    "print(lift_2.requests_to)"
   ]
  },
  {
   "cell_type": "markdown",
   "metadata": {},
   "source": [
    "## Defining algorithms"
   ]
  },
  {
   "cell_type": "code",
   "execution_count": null,
   "metadata": {},
   "outputs": [],
   "source": [
    "def Algo_linear_order(lift):\n",
    "    \"\"\"Completes one request at a time, in the order they arrive. No direction information used.\"\"\"\n",
    "    for request in lift.requests:\n",
    "        lift.move_to(request)\n",
    "        lift.add_time_move(Lift.last_journey_distance)\n",
    "\n",
    "    return lift"
   ]
  }
 ],
 "metadata": {
  "kernelspec": {
   "display_name": "ML_Cambridge",
   "language": "python",
   "name": "python3"
  },
  "language_info": {
   "codemirror_mode": {
    "name": "ipython",
    "version": 3
   },
   "file_extension": ".py",
   "mimetype": "text/x-python",
   "name": "python",
   "nbconvert_exporter": "python",
   "pygments_lexer": "ipython3",
   "version": "3.12.2"
  }
 },
 "nbformat": 4,
 "nbformat_minor": 2
}
